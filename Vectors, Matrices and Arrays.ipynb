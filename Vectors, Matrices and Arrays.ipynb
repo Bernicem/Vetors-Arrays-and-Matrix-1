{
 "cells": [
  {
   "cell_type": "markdown",
   "id": "fa0e5097",
   "metadata": {},
   "source": [
    "### Sparse Matrix"
   ]
  },
  {
   "cell_type": "code",
   "execution_count": 1,
   "id": "da9426ae",
   "metadata": {},
   "outputs": [],
   "source": [
    "# Load libraries\n",
    "import numpy as np\n",
    "from scipy import sparse\n",
    "# Create a matrix\n",
    "matrix = np.array([[0, 0],\n",
    " [0, 1],\n",
    " [3, 0]])\n",
    "# Create compressed sparse row (CSR) matrix\n",
    "matrix_sparse = sparse.csr_matrix(matrix)"
   ]
  },
  {
   "cell_type": "code",
   "execution_count": 3,
   "id": "695d7842",
   "metadata": {},
   "outputs": [
    {
     "data": {
      "text/plain": [
       "array([[0, 0],\n",
       "       [0, 1],\n",
       "       [3, 0]])"
      ]
     },
     "execution_count": 3,
     "metadata": {},
     "output_type": "execute_result"
    }
   ],
   "source": [
    "matrix"
   ]
  },
  {
   "cell_type": "code",
   "execution_count": 4,
   "id": "79311651",
   "metadata": {},
   "outputs": [
    {
     "name": "stdout",
     "output_type": "stream",
     "text": [
      "  (1, 1)\t1\n",
      "  (2, 0)\t3\n"
     ]
    }
   ],
   "source": [
    "print(matrix_sparse)# returns the non-zero elements with their indices"
   ]
  },
  {
   "cell_type": "markdown",
   "id": "4ae4bf09",
   "metadata": {},
   "source": [
    "#### Selecting elements"
   ]
  },
  {
   "cell_type": "code",
   "execution_count": 5,
   "id": "ffa05dcf",
   "metadata": {},
   "outputs": [
    {
     "data": {
      "text/plain": [
       "5"
      ]
     },
     "execution_count": 5,
     "metadata": {},
     "output_type": "execute_result"
    }
   ],
   "source": [
    "# Load library\n",
    "import numpy as np\n",
    "# Create row vector\n",
    "vector = np.array([1, 2, 3, 4, 5, 6])\n",
    "# Create matrix\n",
    "matrix = np.array([[1, 2, 3],\n",
    " [4, 5, 6],\n",
    " [7, 8, 9]])\n",
    "# Select third element of vector\n",
    "vector[2]\n",
    "3\n",
    "# Select second row, second column\n",
    "matrix[1,1]"
   ]
  },
  {
   "cell_type": "markdown",
   "id": "3da22eed",
   "metadata": {},
   "source": [
    "### Use NumPy’s vectorize:\n",
    "- Load library\n",
    "\n",
    "- Create matrix\n",
    "\n",
    "- Create function that adds 100 to something\n",
    "\n",
    "- Create vectorized function\n",
    "\n",
    "- Apply function to all elements in matrix\n"
   ]
  },
  {
   "cell_type": "code",
   "execution_count": 7,
   "id": "f3637431",
   "metadata": {},
   "outputs": [
    {
     "data": {
      "text/plain": [
       "array([[101, 102, 103],\n",
       "       [104, 105, 106],\n",
       "       [107, 108, 109]])"
      ]
     },
     "execution_count": 7,
     "metadata": {},
     "output_type": "execute_result"
    }
   ],
   "source": [
    "import numpy as np\n",
    "matrix = np.array([[1, 2, 3],\n",
    " [4, 5, 6],\n",
    " [7, 8, 9]])\n",
    "add_100 = lambda i: i + 100\n",
    "vectorized_add_100 = np.vectorize(add_100)\n",
    "vectorized_add_100(matrix)\n"
   ]
  },
  {
   "cell_type": "code",
   "execution_count": 8,
   "id": "8a2da036",
   "metadata": {},
   "outputs": [
    {
     "data": {
      "text/plain": [
       "array([4., 5., 6.])"
      ]
     },
     "execution_count": 8,
     "metadata": {},
     "output_type": "execute_result"
    }
   ],
   "source": [
    "matrix = np.array([[1, 2, 3],\n",
    " [4, 5, 6],\n",
    " [7, 8, 9]])\n",
    "np.mean(matrix, axis = 0)# mean per column"
   ]
  },
  {
   "cell_type": "code",
   "execution_count": 9,
   "id": "5c4c90ec",
   "metadata": {},
   "outputs": [
    {
     "data": {
      "text/plain": [
       "array([2., 5., 8.])"
      ]
     },
     "execution_count": 9,
     "metadata": {},
     "output_type": "execute_result"
    }
   ],
   "source": [
    "matrix = np.array([[1, 2, 3],\n",
    " [4, 5, 6],\n",
    " [7, 8, 9]])\n",
    "np.mean(matrix, axis = 1)"
   ]
  },
  {
   "cell_type": "code",
   "execution_count": 10,
   "id": "b8d2b0d2",
   "metadata": {},
   "outputs": [
    {
     "data": {
      "text/plain": [
       "array([[1, 2, 3, 4, 5, 6, 7, 8, 9]])"
      ]
     },
     "execution_count": 10,
     "metadata": {},
     "output_type": "execute_result"
    }
   ],
   "source": [
    "matrix.reshape(1, -1)"
   ]
  },
  {
   "cell_type": "code",
   "execution_count": 11,
   "id": "53ab244d",
   "metadata": {},
   "outputs": [
    {
     "data": {
      "text/plain": [
       "array([[1],\n",
       "       [2],\n",
       "       [3],\n",
       "       [4],\n",
       "       [5],\n",
       "       [6],\n",
       "       [7],\n",
       "       [8],\n",
       "       [9]])"
      ]
     },
     "execution_count": 11,
     "metadata": {},
     "output_type": "execute_result"
    }
   ],
   "source": [
    "matrix.reshape(-1, 1)"
   ]
  },
  {
   "cell_type": "code",
   "execution_count": 12,
   "id": "54d83156",
   "metadata": {},
   "outputs": [],
   "source": [
    "a = matrix.reshape(-1, 1)"
   ]
  },
  {
   "cell_type": "code",
   "execution_count": 14,
   "id": "7529e5d6",
   "metadata": {},
   "outputs": [
    {
     "data": {
      "text/plain": [
       "array([[1, 2, 3],\n",
       "       [4, 5, 6],\n",
       "       [7, 8, 9]])"
      ]
     },
     "execution_count": 14,
     "metadata": {},
     "output_type": "execute_result"
    }
   ],
   "source": [
    "a.reshape((3,3))"
   ]
  },
  {
   "cell_type": "code",
   "execution_count": 15,
   "id": "58875126",
   "metadata": {},
   "outputs": [
    {
     "data": {
      "text/plain": [
       "array([[1, 4, 7],\n",
       "       [2, 5, 8],\n",
       "       [3, 6, 9]])"
      ]
     },
     "execution_count": 15,
     "metadata": {},
     "output_type": "execute_result"
    }
   ],
   "source": [
    "# Load library\n",
    "import numpy as np\n",
    "# Create matrix\n",
    "matrix = np.array([[1, 2, 3],\n",
    " [4, 5, 6],\n",
    " [7, 8, 9]])\n",
    "# Transpose matrix\n",
    "matrix.T"
   ]
  },
  {
   "cell_type": "code",
   "execution_count": 1,
   "id": "a5b8e61f",
   "metadata": {},
   "outputs": [
    {
     "data": {
      "text/plain": [
       "array([1, 2, 3, 4, 5, 6, 7, 8, 9])"
      ]
     },
     "execution_count": 1,
     "metadata": {},
     "output_type": "execute_result"
    }
   ],
   "source": [
    "# Load library\n",
    "import numpy as np\n",
    "# Create matrix\n",
    "matrix = np.array([[1, 2, 3],\n",
    " [4, 5, 6],\n",
    " [7, 8, 9]])\n",
    "# Flatten matrix\n",
    "matrix.flatten()"
   ]
  },
  {
   "cell_type": "code",
   "execution_count": 2,
   "id": "4f0dc6be",
   "metadata": {},
   "outputs": [
    {
     "data": {
      "text/plain": [
       "2"
      ]
     },
     "execution_count": 2,
     "metadata": {},
     "output_type": "execute_result"
    }
   ],
   "source": [
    "# Create matrix\n",
    "matrix = np.array([[1, 1, 1],\n",
    " [1, 1, 10],\n",
    " [1, 1, 15]])\n",
    "# Return matrix rank\n",
    "np.linalg.matrix_rank(matrix)"
   ]
  },
  {
   "cell_type": "code",
   "execution_count": 8,
   "id": "7fff2d3d",
   "metadata": {},
   "outputs": [
    {
     "name": "stdout",
     "output_type": "stream",
     "text": [
      "0.0\n",
      "[1 4 9]\n",
      "[2 6]\n",
      "[2 8]\n"
     ]
    },
    {
     "data": {
      "text/plain": [
       "14"
      ]
     },
     "execution_count": 8,
     "metadata": {},
     "output_type": "execute_result"
    }
   ],
   "source": [
    "# Create matrix\n",
    "matrix = np.array([[1, 2, 3],\n",
    " [2, 4, 6],\n",
    " [3, 8, 9]])\n",
    "# Return determinant of matrix\n",
    "print(np.linalg.det(matrix))\n",
    "\n",
    "# Return diagonal elements\n",
    "print(matrix.diagonal())\n",
    "\n",
    "# Return diagonal one above the main diagonal\n",
    "print(matrix.diagonal(offset=1))\n",
    "\n",
    "# Return diagonal one below the main diagonal\n",
    "print(matrix.diagonal(offset=-1))\n",
    "\n",
    "# Return trace- This is the sum of all diagonal elements\n",
    "#it proves results in linear algebra\n",
    "matrix.trace()"
   ]
  },
  {
   "cell_type": "code",
   "execution_count": 13,
   "id": "e0cd3093",
   "metadata": {},
   "outputs": [
    {
     "name": "stdout",
     "output_type": "stream",
     "text": [
      "Eigenvalues\n",
      " [13.55075847  0.74003145 -3.29078992]\n",
      "Eigenvectors\n",
      " [[-0.17622017 -0.96677403 -0.53373322]\n",
      " [-0.435951    0.2053623  -0.64324848]\n",
      " [-0.88254925  0.15223105  0.54896288]]\n"
     ]
    }
   ],
   "source": [
    "# Create matrix\n",
    "matrix = np.array([[1, -1, 3],\n",
    " [1, 1, 6],\n",
    " [3, 8, 9]])\n",
    "# Calculate eigenvalues and eigenvectors\n",
    "eigenvalues, eigenvectors = np.linalg.eig(matrix)\n",
    "print('Eigenvalues\\n',eigenvalues)\n",
    "\n",
    "print('Eigenvectors\\n',eigenvectors)"
   ]
  },
  {
   "cell_type": "code",
   "execution_count": 14,
   "id": "089f86ca",
   "metadata": {},
   "outputs": [
    {
     "data": {
      "text/plain": [
       "32"
      ]
     },
     "execution_count": 14,
     "metadata": {},
     "output_type": "execute_result"
    }
   ],
   "source": [
    "# Create two vectors\n",
    "vector_a = np.array([1,2,3])\n",
    "vector_b = np.array([4,5,6])\n",
    "# Calculate dot product\n",
    "np.dot(vector_a, vector_b)"
   ]
  },
  {
   "cell_type": "code",
   "execution_count": 19,
   "id": "42dd9eb2",
   "metadata": {},
   "outputs": [
    {
     "name": "stdout",
     "output_type": "stream",
     "text": [
      "Sum of two matrices is\n",
      " [[ 2  4  2]\n",
      " [ 2  4  2]\n",
      " [ 2  4 10]]\n",
      "Difference of two matrices is\n",
      " [[ 0 -2  0]\n",
      " [ 0 -2  0]\n",
      " [ 0 -2 -6]]\n",
      "The dot product is\n",
      " [[ 3  9 10]\n",
      " [ 3  9 10]\n",
      " [ 4 12 18]]\n",
      "Element-wise product is\n",
      " [[ 1  3  1]\n",
      " [ 1  3  1]\n",
      " [ 1  3 16]]\n"
     ]
    }
   ],
   "source": [
    "# Load library\n",
    "import numpy as np\n",
    "# Create matrix\n",
    "matrix_a = np.array([[1, 1, 1],\n",
    " [1, 1, 1],\n",
    " [1, 1, 2]])\n",
    "# Create matrix\n",
    "matrix_b = np.array([[1, 3, 1],\n",
    " [1, 3, 1],\n",
    " [1, 3, 8]])\n",
    "# Add two matrices\n",
    "print(\"Sum of two matrices is\\n\",np.add(matrix_a, matrix_b))\n",
    "\n",
    "# Subtract two matrices\n",
    "print(\"Difference of two matrices is\\n\",np.subtract(matrix_a, matrix_b))\n",
    "\n",
    "# dot product\n",
    "print(\"The dot product is\\n\",np.dot(matrix_a,matrix_b))\n",
    "\n",
    "#Element-wise\n",
    "print(\"Element-wise product is\\n\",matrix_a*matrix_b)"
   ]
  },
  {
   "cell_type": "code",
   "execution_count": 22,
   "id": "04ad77f4",
   "metadata": {},
   "outputs": [
    {
     "data": {
      "text/plain": [
       "array([[-1.66666667,  1.33333333],\n",
       "       [ 0.66666667, -0.33333333]])"
      ]
     },
     "execution_count": 22,
     "metadata": {},
     "output_type": "execute_result"
    }
   ],
   "source": [
    "# Create matrix\n",
    "matrix = np.array([[1, 4],\n",
    " [2, 5]])\n",
    "# Calculate inverse of matrix\n",
    "np.linalg.inv(matrix)"
   ]
  },
  {
   "cell_type": "code",
   "execution_count": 26,
   "id": "1fb3f1cb",
   "metadata": {},
   "outputs": [
    {
     "name": "stdout",
     "output_type": "stream",
     "text": [
      "Random floats vector\n",
      " [0.5488135  0.71518937 0.60276338]\n",
      "Random integers vector\n",
      " [3 7 9]\n",
      "Random numbers from normal vector\n",
      " [-1.42232584  1.52006949 -0.29139398]\n",
      "Random numbers from logistic vector\n",
      " [-0.98118713 -0.08939902  1.46416405]\n",
      "Random numbers between 1.0 and 2.0 vector\n",
      " [1.47997717 1.3927848  1.83607876]\n"
     ]
    }
   ],
   "source": [
    "# Set seed\n",
    "np.random.seed(0)\n",
    "# Generate three random floats between 0.0 and 1.0\n",
    "print(\"Random floats vector\\n\",np.random.random(3))\n",
    "\n",
    "# Generate three random integers between 1 and 10\n",
    "print(\"Random integers vector\\n\",np.random.randint(0, 11, 3))\n",
    "\n",
    "# Draw three numbers from a normal distribution with mean 0.0\n",
    "# and standard deviation of 1.0\n",
    "print(\"Random numbers from normal vector\\n\",np.random.normal(0.0, 1.0, 3))\n",
    "\n",
    "# Draw three numbers from a logistic distribution with mean 0.0 and scale of 1.0\n",
    "print(\"Random numbers from logistic vector\\n\",np.random.logistic(0.0, 1.0, 3))\n",
    "\n",
    "# Draw three numbers greater than or equal to 1.0 and less than 2.0\n",
    "print(\"Random numbers between 1.0 and 2.0 vector\\n\",np.random.uniform(1.0, 2.0, 3))"
   ]
  },
  {
   "cell_type": "code",
   "execution_count": null,
   "id": "b638f3f8",
   "metadata": {},
   "outputs": [],
   "source": []
  }
 ],
 "metadata": {
  "kernelspec": {
   "display_name": "Python 3 (ipykernel)",
   "language": "python",
   "name": "python3"
  },
  "language_info": {
   "codemirror_mode": {
    "name": "ipython",
    "version": 3
   },
   "file_extension": ".py",
   "mimetype": "text/x-python",
   "name": "python",
   "nbconvert_exporter": "python",
   "pygments_lexer": "ipython3",
   "version": "3.9.12"
  }
 },
 "nbformat": 4,
 "nbformat_minor": 5
}
